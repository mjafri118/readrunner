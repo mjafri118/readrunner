{
 "cells": [
  {
   "cell_type": "code",
   "execution_count": 28,
   "metadata": {},
   "outputs": [],
   "source": [
    "# Import dem libraries.\n",
    "%matplotlib inline\n",
    "import numpy as np\n",
    "import matplotlib.pyplot as plt\n",
    "from matplotlib.animation import FuncAnimation\n",
    "from IPython.display import HTML\n"
   ]
  },
  {
   "cell_type": "code",
   "execution_count": 71,
   "metadata": {},
   "outputs": [
    {
     "name": "stdout",
     "output_type": "stream",
     "text": [
      "THe\n",
      "quIck\n",
      "brOwn\n",
      "fOx\n",
      "jumPed\n",
      "ovEr\n",
      "tHe\n",
      "laZy\n",
      "dOg\n"
     ]
    }
   ],
   "source": [
    "words = \"The quick brown fox jumped over the lazy dog\".split(\" \")\n",
    "\n",
    "for word in words:\n",
    "    length = len(word)\n",
    "    leftHalf = word[0:length//2 ]\n",
    "    centerChar = word[length//2].upper()\n",
    "    rightHalf = word[length//2 + 1:]\n",
    "    print( leftHalf + centerChar  + rightHalf)"
   ]
  },
  {
   "cell_type": "code",
   "execution_count": 84,
   "metadata": {},
   "outputs": [],
   "source": [
    "def getLeft(word):\n",
    "    length = len(word)\n",
    "    leftHalf = word[0:length//2]\n",
    "    return leftHalf\n",
    "\n",
    "def getMiddle(word):\n",
    "    length = len(word)\n",
    "    centerChar = word[length//2]\n",
    "    return centerChar\n",
    "\n",
    "def getRight(word):\n",
    "    length = len(word)\n",
    "    rightHalf = word[length//2 + 1:]\n",
    "    return rightHalf"
   ]
  },
  {
   "cell_type": "code",
   "execution_count": 142,
   "metadata": {},
   "outputs": [],
   "source": [
    "\n",
    "def genVid(words, WPM):\n",
    "    # ----- Set up Plotting Area -----\n",
    "    fig, ax = plt.subplots(figsize=(5, 3))\n",
    "    ax.set(xlim=(-3, 3), ylim=(-1, 1))\n",
    "    plt.xticks([])\n",
    "    plt.yticks([])\n",
    "\n",
    "    # ----- Creating fake data to plot -----\n",
    "    CLOSENESS = .05\n",
    "    FONTSIZE = 25\n",
    "    WPM = WPM\n",
    "\n",
    "    ax.set(xlim=(-1, 1), ylim=(-1, 1))\n",
    "    \n",
    "    logo = ax.text(-.95,\n",
    "                      .95,\n",
    "                      \"ReadRunner\",\n",
    "                      ha='left', \n",
    "                      va='top',\n",
    "                      color = \"purple\",\n",
    "                      fontsize=12)\n",
    "\n",
    "    leftText = ax.text(-CLOSENESS,\n",
    "                      0,\n",
    "                      \"left\",\n",
    "                      ha='right', \n",
    "                      va='center',\n",
    "                      fontsize=FONTSIZE)\n",
    "\n",
    "    middleText = ax.text(0, \n",
    "                    0, \n",
    "                    \"left center\",\n",
    "                    ha='center', \n",
    "                    va='center',\n",
    "                    fontsize=FONTSIZE,\n",
    "                    color='red')\n",
    "\n",
    "    rightText = ax.text(CLOSENESS,\n",
    "                      0,\n",
    "                      \"right\",\n",
    "                      ha='left', \n",
    "                      va='center',\n",
    "                      fontsize=FONTSIZE)\n",
    "\n",
    "    # ----- Function to update -----\n",
    "    def animate(i):\n",
    "        leftText.set_text(getLeft(words[i]))\n",
    "        middleText.set_text(getMiddle(words[i]))\n",
    "        rightText.set_text(getRight(words[i]))\n",
    "\n",
    "\n",
    "    # ----- Animation call -----\n",
    "    frames = len(words)\n",
    "    interval = (6000 * frames) / WPM\n",
    "    anim = FuncAnimation(\n",
    "        fig, animate, interval=interval, frames=frames)\n",
    "\n",
    "    # ----- Show the Animation -----\n",
    "    # HTML(anim.to_html5_video())\n",
    "\n",
    "    # ----- Save the Animation -----\n",
    "    anim.save('speedread.mp4')\n",
    "    print(\"Speed read saved!\")\n",
    "    # anim.save('filename.gif', writer='imagemagick')\n",
    "\n"
   ]
  },
  {
   "cell_type": "code",
   "execution_count": 143,
   "metadata": {},
   "outputs": [
    {
     "name": "stdout",
     "output_type": "stream",
     "text": [
      "Speed read saved!\n"
     ]
    },
    {
     "data": {
      "image/png": "[encoded data removed]",
      "text/plain": [
       "<Figure size 360x216 with 1 Axes>"
      ]
     },
     "metadata": {},
     "output_type": "display_data"
    }
   ],
   "source": [
    "genVid(words, WPM = 500)"
   ]
  },
  {
   "cell_type": "code",
   "execution_count": null,
   "metadata": {},
   "outputs": [],
   "source": []
  }
 ],
 "metadata": {
  "kernelspec": {
   "display_name": "Python 3",
   "language": "python",
   "name": "python3"
  },
  "language_info": {
   "codemirror_mode": {
    "name": "ipython",
    "version": 3
   },
   "file_extension": ".py",
   "mimetype": "text/x-python",
   "name": "python",
   "nbconvert_exporter": "python",
   "pygments_lexer": "ipython3",
   "version": "3.7.3"
  }
 },
 "nbformat": 4,
 "nbformat_minor": 2
}
